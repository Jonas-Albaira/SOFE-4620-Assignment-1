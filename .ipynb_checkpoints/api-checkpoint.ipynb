{
 "cells": [
  {
   "cell_type": "markdown",
   "metadata": {},
   "source": [
    "# Calling a URL and Saving the Data in Python\n",
    "For this part of the tutorial, you will use the API url to get the json data and formatting it for a pandas dataframe. Pandas is a python library that manages data in a similar format to an excel sheet. Instead of the dictionary format that JSON files are stored as, this forms data into a table that can be actively queried in a fashion similar to SQL.\n"
   ]
  },
  {
   "cell_type": "code",
   "execution_count": 3,
   "metadata": {
    "collapsed": true
   },
   "outputs": [],
   "source": [
    "# importing libraries\n",
    "import pandas as pd\n",
    "import matplotlib.pyplot as plt\n",
    "import requests\n",
    "\n",
    "# headers are often used to gain access to an otherwise locked API\n",
    "HEADERS = {\n",
    "    'Accept-Encoding': 'gzip, deflate, sdch',\n",
    "    'Accept-Language': 'en-US,en;q=0.8',\n",
    "    'User-Agent': 'Mozilla/5.0 (X11; Linux x86_64) AppleWebKit/537.36 (KHTML, like Gecko) Chrome/58.0.3029.110 Safari/537.36',\n",
    "    'Accept': 'application/json, text/plain, */*',\n",
    "    'x-nba-stats-token': 'true',\n",
    "    'Referer': 'http://stats.nba.com/player/',\n",
    "    'Connection': 'keep-alive',\n",
    "    'x-nba-stats-origin': 'stats'\n",
    "}\n",
    "\n",
    "# define function to be used\n",
    "def get_data(url):\n",
    "    response = requests.get(url, headers=HEADERS)\n",
    "    while response.status_code != 200:\n",
    "        response = requests.get(url)\n",
    "    # explore the response in developers tools to find the proper arrangement of your json response\n",
    "    headers = response.json()['resultSets'][0]['headers']\n",
    "    data = response.json()['resultSets'][0]['rowSet']\n",
    "    data = pd.DataFrame(data, columns=headers)\n",
    "    return data\n",
    "\n",
    "# define the url\n",
    "url = 'http://stats.nba.com/stats/playerdashboardbyyearoveryear?DateFrom=&DateTo=&GameSegment=&LastNGames=0&LeagueID=00&Location=&MeasureType=Base&Month=0&OpponentTeamID=0&Outcome=&PORound=0&PaceAdjust=N&PerMode=PerGame&Period=0&PlayerID=203954&PlusMinus=N&Rank=N&Season=2017-18&SeasonSegment=&SeasonType=Regular+Season&ShotClockRange=&Split=yoy&VsConference=&VsDivision='"
   ]
  },
  {
   "cell_type": "code",
   "execution_count": 7,
   "metadata": {},
   "outputs": [
    {
     "name": "stdout",
     "output_type": "stream",
     "text": [
      "  GROUP_SET GROUP_VALUE     TEAM_ID TEAM_ABBREVIATION        MAX_GAME_DATE  \\\n",
      "0   Overall     2017-18  1610612755               PHI  2018-01-15T00:00:00   \n",
      "\n",
      "   GP   W   L  W_PCT   MIN    ...     BLKA_RANK  PF_RANK  PFD_RANK  PTS_RANK  \\\n",
      "0  31  18  13  0.581  31.3    ...             1        1         1         1   \n",
      "\n",
      "   PLUS_MINUS_RANK  NBA_FANTASY_PTS_RANK  DD2_RANK  TD3_RANK  CFID  CFPARAMS  \n",
      "0                1                     1         1         1   265   2017-18  \n",
      "\n",
      "[1 rows x 65 columns]\n"
     ]
    }
   ],
   "source": [
    "# get the pandas data frame\n",
    "data = get_data(url)\n",
    "\n",
    "# print rows of information with column names\n",
    "# to only take the first five rows of a frame, use print(data.head(5))\n",
    "print(data.head())"
   ]
  },
  {
   "cell_type": "code",
   "execution_count": 8,
   "metadata": {
    "collapsed": true
   },
   "outputs": [],
   "source": [
    "# once you have the data, you can save it simply to a csv\n",
    "# to remove the index from the frame, indicate so as an argument\n",
    "data.to_csv('player.csv', index=False)"
   ]
  },
  {
   "cell_type": "markdown",
   "metadata": {},
   "source": [
    "### Finished!\n",
    "In a future section, we will look at storing dataframs or json files in a document based database, like MongoDB."
   ]
  },
  {
   "cell_type": "code",
   "execution_count": null,
   "metadata": {
    "collapsed": true
   },
   "outputs": [],
   "source": []
  }
 ],
 "metadata": {
  "kernelspec": {
   "display_name": "Python 3",
   "language": "python",
   "name": "python3"
  },
  "language_info": {
   "codemirror_mode": {
    "name": "ipython",
    "version": 3
   },
   "file_extension": ".py",
   "mimetype": "text/x-python",
   "name": "python",
   "nbconvert_exporter": "python",
   "pygments_lexer": "ipython3",
   "version": "3.6.3"
  }
 },
 "nbformat": 4,
 "nbformat_minor": 2
}
