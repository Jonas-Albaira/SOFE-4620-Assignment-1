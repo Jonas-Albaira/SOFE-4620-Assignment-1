{
 "cells": [
  {
   "cell_type": "markdown",
   "metadata": {},
   "source": [
    "# MongoDB and Pandas\n",
    "In this section of the tutorial, you will be using the previously installed user defined python package to store the shots taken into the mongo collection that you have already created."
   ]
  },
  {
   "cell_type": "code",
   "execution_count": 3,
   "metadata": {
    "collapsed": true
   },
   "outputs": [],
   "source": [
    "# import standard libraries\n",
    "import pandas as pd\n",
    "from pymongo import MongoClient\n",
    "\n",
    "# import user defined methods from package\n",
    "from reference.utils import _pbp_fga"
   ]
  },
  {
   "cell_type": "code",
   "execution_count": 15,
   "metadata": {
    "collapsed": true
   },
   "outputs": [],
   "source": [
    "# define standard methods for storing dataframes in mongodb\n",
    "def _connect_mongo(host, port, username, password, db):\n",
    "    \"\"\" \n",
    "    SOURCE: https://stackoverflow.com/questions/16249736/how-to-import-data-from-mongodb-to-pandas\n",
    "    A util for making a connection to mongo \n",
    "    \"\"\"\n",
    "\n",
    "    if username and password:\n",
    "        mongo_uri = 'mongodb://%s:%s@%s:%s/%s' % (username, password, host, port, db)\n",
    "        conn = MongoClient(mongo_uri)\n",
    "    else:\n",
    "        conn = MongoClient(host, port)\n",
    "\n",
    "\n",
    "    return conn[db]\n",
    "\n",
    "\n",
    "def read_mongo(db, collection, query={}, host='localhost', port=27017, username=None, password=None, no_id=True):\n",
    "    \"\"\" \n",
    "    Read from Mongo and Store into DataFrame \n",
    "    \"\"\"\n",
    "\n",
    "    # Connect to MongoDB\n",
    "    db = _connect_mongo(host=host, port=port, username=username, password=password, db=db)\n",
    "\n",
    "    # Make a query to the specific DB and Collection\n",
    "    cursor = db[collection].find(query)\n",
    "\n",
    "    # Expand the cursor and construct the DataFrame\n",
    "    df =  pd.DataFrame(list(cursor))\n",
    "\n",
    "    return df\n",
    "\n",
    "def store_mongo(db, collection, data, host='localhost', port=27017, username=None, password=None, no_id=True):\n",
    "    \"\"\" \n",
    "    Read from Mongo and Store into DataFrame \n",
    "    \"\"\"\n",
    "\n",
    "    # Connect to MongoDB\n",
    "    db = _connect_mongo(host=host, port=port, username=username, password=password, db=db)\n",
    "    db[collection].insert(data.to_dict('records'))"
   ]
  },
  {
   "cell_type": "code",
   "execution_count": 13,
   "metadata": {},
   "outputs": [
    {
     "name": "stdout",
     "output_type": "stream",
     "text": [
      "     assister   away blocker  \\\n",
      "0        None   True    None   \n",
      "1   I. Thomas  False    None   \n",
      "2   T. Booker   True    None   \n",
      "3  A. Bradley  False    None   \n",
      "4        None   True    None   \n",
      "\n",
      "                                              detail   home is_assist  \\\n",
      "0               B. Lopez misses 2-pt shot from 10 ft  False     False   \n",
      "1  J. Crowder makes 2-pt shot from 1 ft (assist b...   True      True   \n",
      "2  B. Bogdanovic makes 2-pt shot from 6 ft (assis...  False      True   \n",
      "3  A. Horford makes 3-pt shot from 24 ft (assist ...   True      True   \n",
      "4                 J. Lin misses 3-pt shot from 24 ft  False     False   \n",
      "\n",
      "  is_block is_fga is_fgm is_home_play is_three  minute        shooter  \\\n",
      "0    False   True  False        False    False       0       B. Lopez   \n",
      "1    False   True   True         True    False       0     J. Crowder   \n",
      "2    False   True   True        False    False       0  B. Bogdanovic   \n",
      "3    False   True   True         True     True       1     A. Horford   \n",
      "4    False   True  False        False     True       1         J. Lin   \n",
      "\n",
      "  shot_dist  \n",
      "0        10  \n",
      "1         1  \n",
      "2         6  \n",
      "3        24  \n",
      "4        24  \n"
     ]
    }
   ],
   "source": [
    "# get the data\n",
    "data = _pbp_fga('201610260BOS')\n",
    "print(data.head(5))"
   ]
  },
  {
   "cell_type": "code",
   "execution_count": 17,
   "metadata": {},
   "outputs": [
    {
     "name": "stderr",
     "output_type": "stream",
     "text": [
      "/usr/local/lib/python2.7/dist-packages/ipykernel/__main__.py:41: DeprecationWarning: insert is deprecated. Use insert_one or insert_many instead.\n"
     ]
    }
   ],
   "source": [
    "# store the data\n",
    "store_mongo(db='local',collection='nba_shots',data=data)\n",
    "\n",
    "\n",
    "# read the data \n",
    "data = read_mongo(db='local',collection='nba_shots')"
   ]
  },
  {
   "cell_type": "code",
   "execution_count": 18,
   "metadata": {},
   "outputs": [
    {
     "name": "stdout",
     "output_type": "stream",
     "text": [
      "                        _id    assister   away blocker  \\\n",
      "0  5a5e27d766d6fb7fef9efe44        None   True    None   \n",
      "1  5a5e27d766d6fb7fef9efe45   I. Thomas  False    None   \n",
      "2  5a5e27d766d6fb7fef9efe46   T. Booker   True    None   \n",
      "3  5a5e27d766d6fb7fef9efe47  A. Bradley  False    None   \n",
      "4  5a5e27d766d6fb7fef9efe48        None   True    None   \n",
      "\n",
      "                                              detail   home is_assist  \\\n",
      "0               B. Lopez misses 2-pt shot from 10 ft  False     False   \n",
      "1  J. Crowder makes 2-pt shot from 1 ft (assist b...   True      True   \n",
      "2  B. Bogdanovic makes 2-pt shot from 6 ft (assis...  False      True   \n",
      "3  A. Horford makes 3-pt shot from 24 ft (assist ...   True      True   \n",
      "4                 J. Lin misses 3-pt shot from 24 ft  False     False   \n",
      "\n",
      "  is_block is_fga is_fgm is_home_play is_three  minute        shooter  \\\n",
      "0    False   True  False        False    False       0       B. Lopez   \n",
      "1    False   True   True         True    False       0     J. Crowder   \n",
      "2    False   True   True        False    False       0  B. Bogdanovic   \n",
      "3    False   True   True         True     True       1     A. Horford   \n",
      "4    False   True  False        False     True       1         J. Lin   \n",
      "\n",
      "  shot_dist  \n",
      "0        10  \n",
      "1         1  \n",
      "2         6  \n",
      "3        24  \n",
      "4        24  \n"
     ]
    }
   ],
   "source": [
    "# check if data is read back\n",
    "print(data.head(5))"
   ]
  },
  {
   "cell_type": "code",
   "execution_count": null,
   "metadata": {
    "collapsed": true
   },
   "outputs": [],
   "source": []
  }
 ],
 "metadata": {
  "kernelspec": {
   "display_name": "Python 3",
   "language": "python",
   "name": "python3"
  },
  "language_info": {
   "codemirror_mode": {
    "name": "ipython",
    "version": 3
   },
   "file_extension": ".py",
   "mimetype": "text/x-python",
   "name": "python",
   "nbconvert_exporter": "python",
   "pygments_lexer": "ipython3",
   "version": "3.6.3"
  }
 },
 "nbformat": 4,
 "nbformat_minor": 2
}
